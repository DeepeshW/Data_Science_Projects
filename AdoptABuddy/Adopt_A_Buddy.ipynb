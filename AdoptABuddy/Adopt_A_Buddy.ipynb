{
 "cells": [
  {
   "cell_type": "markdown",
   "metadata": {},
   "source": [
    "# HackerEarth ML Challenge: Adopt a buddy"
   ]
  },
  {
   "cell_type": "markdown",
   "metadata": {},
   "source": [
    "## Problem Statement\n",
    "\n",
    "A leading pet adopting agency is planning to create a virtual tour experience for their customers showcasing all animals that are available in their shelter. \n",
    "To enable this tour experience, we are required to predict pet type and breed based on its physical attributes and other factors."
   ]
  },
  {
   "cell_type": "markdown",
   "metadata": {},
   "source": [
    "## Importing Libraries"
   ]
  },
  {
   "cell_type": "code",
   "execution_count": 2,
   "metadata": {},
   "outputs": [
    {
     "data": {
      "text/plain": [
       "<function warnings.filterwarnings(action, message='', category=<class 'Warning'>, module='', lineno=0, append=False)>"
      ]
     },
     "execution_count": 2,
     "metadata": {},
     "output_type": "execute_result"
    }
   ],
   "source": [
    "import pandas as pd\n",
    "import numpy as np\n",
    "import matplotlib.pyplot as plt  # for data visualization\n",
    "%matplotlib inline\n",
    "import seaborn as sns    # for data visualization\n",
    "import warnings         # for ignoring warnings\n",
    "warnings.filterwarnings\n"
   ]
  },
  {
   "cell_type": "code",
   "execution_count": 3,
   "metadata": {},
   "outputs": [],
   "source": [
    "train = pd.read_csv('train.csv')\n",
    "test = pd.read_csv('test.csv')"
   ]
  },
  {
   "cell_type": "code",
   "execution_count": 4,
   "metadata": {},
   "outputs": [
    {
     "data": {
      "text/html": [
       "<div>\n",
       "<style scoped>\n",
       "    .dataframe tbody tr th:only-of-type {\n",
       "        vertical-align: middle;\n",
       "    }\n",
       "\n",
       "    .dataframe tbody tr th {\n",
       "        vertical-align: top;\n",
       "    }\n",
       "\n",
       "    .dataframe thead th {\n",
       "        text-align: right;\n",
       "    }\n",
       "</style>\n",
       "<table border=\"1\" class=\"dataframe\">\n",
       "  <thead>\n",
       "    <tr style=\"text-align: right;\">\n",
       "      <th></th>\n",
       "      <th>pet_id</th>\n",
       "      <th>issue_date</th>\n",
       "      <th>listing_date</th>\n",
       "      <th>condition</th>\n",
       "      <th>color_type</th>\n",
       "      <th>length(m)</th>\n",
       "      <th>height(cm)</th>\n",
       "      <th>X1</th>\n",
       "      <th>X2</th>\n",
       "      <th>breed_category</th>\n",
       "      <th>pet_category</th>\n",
       "    </tr>\n",
       "  </thead>\n",
       "  <tbody>\n",
       "    <tr>\n",
       "      <td>0</td>\n",
       "      <td>ANSL_69903</td>\n",
       "      <td>2016-07-10 00:00:00</td>\n",
       "      <td>2016-09-21 16:25:00</td>\n",
       "      <td>2.0</td>\n",
       "      <td>Brown Tabby</td>\n",
       "      <td>0.80</td>\n",
       "      <td>7.78</td>\n",
       "      <td>13</td>\n",
       "      <td>9</td>\n",
       "      <td>0</td>\n",
       "      <td>1</td>\n",
       "    </tr>\n",
       "    <tr>\n",
       "      <td>1</td>\n",
       "      <td>ANSL_66892</td>\n",
       "      <td>2013-11-21 00:00:00</td>\n",
       "      <td>2018-12-27 17:47:00</td>\n",
       "      <td>1.0</td>\n",
       "      <td>White</td>\n",
       "      <td>0.72</td>\n",
       "      <td>14.19</td>\n",
       "      <td>13</td>\n",
       "      <td>9</td>\n",
       "      <td>0</td>\n",
       "      <td>2</td>\n",
       "    </tr>\n",
       "    <tr>\n",
       "      <td>2</td>\n",
       "      <td>ANSL_69750</td>\n",
       "      <td>2014-09-28 00:00:00</td>\n",
       "      <td>2016-10-19 08:24:00</td>\n",
       "      <td>NaN</td>\n",
       "      <td>Brown</td>\n",
       "      <td>0.15</td>\n",
       "      <td>40.90</td>\n",
       "      <td>15</td>\n",
       "      <td>4</td>\n",
       "      <td>2</td>\n",
       "      <td>4</td>\n",
       "    </tr>\n",
       "    <tr>\n",
       "      <td>3</td>\n",
       "      <td>ANSL_71623</td>\n",
       "      <td>2016-12-31 00:00:00</td>\n",
       "      <td>2019-01-25 18:30:00</td>\n",
       "      <td>1.0</td>\n",
       "      <td>White</td>\n",
       "      <td>0.62</td>\n",
       "      <td>17.82</td>\n",
       "      <td>0</td>\n",
       "      <td>1</td>\n",
       "      <td>0</td>\n",
       "      <td>2</td>\n",
       "    </tr>\n",
       "    <tr>\n",
       "      <td>4</td>\n",
       "      <td>ANSL_57969</td>\n",
       "      <td>2017-09-28 00:00:00</td>\n",
       "      <td>2017-11-19 09:38:00</td>\n",
       "      <td>2.0</td>\n",
       "      <td>Black</td>\n",
       "      <td>0.50</td>\n",
       "      <td>11.06</td>\n",
       "      <td>18</td>\n",
       "      <td>4</td>\n",
       "      <td>0</td>\n",
       "      <td>1</td>\n",
       "    </tr>\n",
       "  </tbody>\n",
       "</table>\n",
       "</div>"
      ],
      "text/plain": [
       "       pet_id           issue_date         listing_date  condition  \\\n",
       "0  ANSL_69903  2016-07-10 00:00:00  2016-09-21 16:25:00        2.0   \n",
       "1  ANSL_66892  2013-11-21 00:00:00  2018-12-27 17:47:00        1.0   \n",
       "2  ANSL_69750  2014-09-28 00:00:00  2016-10-19 08:24:00        NaN   \n",
       "3  ANSL_71623  2016-12-31 00:00:00  2019-01-25 18:30:00        1.0   \n",
       "4  ANSL_57969  2017-09-28 00:00:00  2017-11-19 09:38:00        2.0   \n",
       "\n",
       "    color_type  length(m)  height(cm)  X1  X2  breed_category  pet_category  \n",
       "0  Brown Tabby       0.80        7.78  13   9               0             1  \n",
       "1        White       0.72       14.19  13   9               0             2  \n",
       "2        Brown       0.15       40.90  15   4               2             4  \n",
       "3        White       0.62       17.82   0   1               0             2  \n",
       "4        Black       0.50       11.06  18   4               0             1  "
      ]
     },
     "execution_count": 4,
     "metadata": {},
     "output_type": "execute_result"
    }
   ],
   "source": [
    "train.head()"
   ]
  },
  {
   "cell_type": "code",
   "execution_count": 5,
   "metadata": {},
   "outputs": [
    {
     "data": {
      "text/html": [
       "<div>\n",
       "<style scoped>\n",
       "    .dataframe tbody tr th:only-of-type {\n",
       "        vertical-align: middle;\n",
       "    }\n",
       "\n",
       "    .dataframe tbody tr th {\n",
       "        vertical-align: top;\n",
       "    }\n",
       "\n",
       "    .dataframe thead th {\n",
       "        text-align: right;\n",
       "    }\n",
       "</style>\n",
       "<table border=\"1\" class=\"dataframe\">\n",
       "  <thead>\n",
       "    <tr style=\"text-align: right;\">\n",
       "      <th></th>\n",
       "      <th>pet_id</th>\n",
       "      <th>issue_date</th>\n",
       "      <th>listing_date</th>\n",
       "      <th>condition</th>\n",
       "      <th>color_type</th>\n",
       "      <th>length(m)</th>\n",
       "      <th>height(cm)</th>\n",
       "      <th>X1</th>\n",
       "      <th>X2</th>\n",
       "      <th>breed_category</th>\n",
       "      <th>pet_category</th>\n",
       "    </tr>\n",
       "  </thead>\n",
       "  <tbody>\n",
       "    <tr>\n",
       "      <td>18829</td>\n",
       "      <td>ANSL_51738</td>\n",
       "      <td>2017-01-26 00:00:00</td>\n",
       "      <td>2018-03-09 15:35:00</td>\n",
       "      <td>2.0</td>\n",
       "      <td>Tricolor</td>\n",
       "      <td>0.44</td>\n",
       "      <td>27.36</td>\n",
       "      <td>0</td>\n",
       "      <td>1</td>\n",
       "      <td>0</td>\n",
       "      <td>2</td>\n",
       "    </tr>\n",
       "    <tr>\n",
       "      <td>18830</td>\n",
       "      <td>ANSL_59900</td>\n",
       "      <td>2016-06-18 00:00:00</td>\n",
       "      <td>2017-07-09 08:37:00</td>\n",
       "      <td>NaN</td>\n",
       "      <td>Brown</td>\n",
       "      <td>0.73</td>\n",
       "      <td>14.25</td>\n",
       "      <td>15</td>\n",
       "      <td>4</td>\n",
       "      <td>2</td>\n",
       "      <td>4</td>\n",
       "    </tr>\n",
       "    <tr>\n",
       "      <td>18831</td>\n",
       "      <td>ANSL_53210</td>\n",
       "      <td>2010-07-21 00:00:00</td>\n",
       "      <td>2018-08-22 14:27:00</td>\n",
       "      <td>0.0</td>\n",
       "      <td>Calico Point</td>\n",
       "      <td>0.99</td>\n",
       "      <td>28.13</td>\n",
       "      <td>13</td>\n",
       "      <td>9</td>\n",
       "      <td>1</td>\n",
       "      <td>1</td>\n",
       "    </tr>\n",
       "    <tr>\n",
       "      <td>18832</td>\n",
       "      <td>ANSL_63468</td>\n",
       "      <td>2017-05-12 00:00:00</td>\n",
       "      <td>2018-02-08 14:05:00</td>\n",
       "      <td>0.0</td>\n",
       "      <td>Tan</td>\n",
       "      <td>0.55</td>\n",
       "      <td>44.82</td>\n",
       "      <td>13</td>\n",
       "      <td>9</td>\n",
       "      <td>1</td>\n",
       "      <td>2</td>\n",
       "    </tr>\n",
       "    <tr>\n",
       "      <td>18833</td>\n",
       "      <td>ANSL_73558</td>\n",
       "      <td>2011-12-13 00:00:00</td>\n",
       "      <td>2018-10-26 14:18:00</td>\n",
       "      <td>0.0</td>\n",
       "      <td>Brown</td>\n",
       "      <td>0.86</td>\n",
       "      <td>37.40</td>\n",
       "      <td>0</td>\n",
       "      <td>1</td>\n",
       "      <td>1</td>\n",
       "      <td>2</td>\n",
       "    </tr>\n",
       "  </tbody>\n",
       "</table>\n",
       "</div>"
      ],
      "text/plain": [
       "           pet_id           issue_date         listing_date  condition  \\\n",
       "18829  ANSL_51738  2017-01-26 00:00:00  2018-03-09 15:35:00        2.0   \n",
       "18830  ANSL_59900  2016-06-18 00:00:00  2017-07-09 08:37:00        NaN   \n",
       "18831  ANSL_53210  2010-07-21 00:00:00  2018-08-22 14:27:00        0.0   \n",
       "18832  ANSL_63468  2017-05-12 00:00:00  2018-02-08 14:05:00        0.0   \n",
       "18833  ANSL_73558  2011-12-13 00:00:00  2018-10-26 14:18:00        0.0   \n",
       "\n",
       "         color_type  length(m)  height(cm)  X1  X2  breed_category  \\\n",
       "18829      Tricolor       0.44       27.36   0   1               0   \n",
       "18830         Brown       0.73       14.25  15   4               2   \n",
       "18831  Calico Point       0.99       28.13  13   9               1   \n",
       "18832           Tan       0.55       44.82  13   9               1   \n",
       "18833         Brown       0.86       37.40   0   1               1   \n",
       "\n",
       "       pet_category  \n",
       "18829             2  \n",
       "18830             4  \n",
       "18831             1  \n",
       "18832             2  \n",
       "18833             2  "
      ]
     },
     "execution_count": 5,
     "metadata": {},
     "output_type": "execute_result"
    }
   ],
   "source": [
    "train.tail()"
   ]
  },
  {
   "cell_type": "code",
   "execution_count": 6,
   "metadata": {},
   "outputs": [
    {
     "data": {
      "text/html": [
       "<div>\n",
       "<style scoped>\n",
       "    .dataframe tbody tr th:only-of-type {\n",
       "        vertical-align: middle;\n",
       "    }\n",
       "\n",
       "    .dataframe tbody tr th {\n",
       "        vertical-align: top;\n",
       "    }\n",
       "\n",
       "    .dataframe thead th {\n",
       "        text-align: right;\n",
       "    }\n",
       "</style>\n",
       "<table border=\"1\" class=\"dataframe\">\n",
       "  <thead>\n",
       "    <tr style=\"text-align: right;\">\n",
       "      <th></th>\n",
       "      <th>pet_id</th>\n",
       "      <th>issue_date</th>\n",
       "      <th>listing_date</th>\n",
       "      <th>condition</th>\n",
       "      <th>color_type</th>\n",
       "      <th>length(m)</th>\n",
       "      <th>height(cm)</th>\n",
       "      <th>X1</th>\n",
       "      <th>X2</th>\n",
       "    </tr>\n",
       "  </thead>\n",
       "  <tbody>\n",
       "    <tr>\n",
       "      <td>0</td>\n",
       "      <td>ANSL_75005</td>\n",
       "      <td>2005-08-17 00:00:00</td>\n",
       "      <td>2017-09-07 15:35:00</td>\n",
       "      <td>0.0</td>\n",
       "      <td>Black</td>\n",
       "      <td>0.87</td>\n",
       "      <td>42.73</td>\n",
       "      <td>0</td>\n",
       "      <td>7</td>\n",
       "    </tr>\n",
       "    <tr>\n",
       "      <td>1</td>\n",
       "      <td>ANSL_76663</td>\n",
       "      <td>2018-11-15 00:00:00</td>\n",
       "      <td>2019-05-08 17:24:00</td>\n",
       "      <td>1.0</td>\n",
       "      <td>Orange Tabby</td>\n",
       "      <td>0.06</td>\n",
       "      <td>6.71</td>\n",
       "      <td>0</td>\n",
       "      <td>1</td>\n",
       "    </tr>\n",
       "    <tr>\n",
       "      <td>2</td>\n",
       "      <td>ANSL_58259</td>\n",
       "      <td>2012-10-11 00:00:00</td>\n",
       "      <td>2018-04-02 16:51:00</td>\n",
       "      <td>1.0</td>\n",
       "      <td>Black</td>\n",
       "      <td>0.24</td>\n",
       "      <td>41.21</td>\n",
       "      <td>0</td>\n",
       "      <td>7</td>\n",
       "    </tr>\n",
       "    <tr>\n",
       "      <td>3</td>\n",
       "      <td>ANSL_67171</td>\n",
       "      <td>2015-02-13 00:00:00</td>\n",
       "      <td>2018-04-06 07:25:00</td>\n",
       "      <td>1.0</td>\n",
       "      <td>Black</td>\n",
       "      <td>0.29</td>\n",
       "      <td>8.46</td>\n",
       "      <td>7</td>\n",
       "      <td>1</td>\n",
       "    </tr>\n",
       "    <tr>\n",
       "      <td>4</td>\n",
       "      <td>ANSL_72871</td>\n",
       "      <td>2017-01-18 00:00:00</td>\n",
       "      <td>2018-04-26 13:42:00</td>\n",
       "      <td>1.0</td>\n",
       "      <td>Brown</td>\n",
       "      <td>0.71</td>\n",
       "      <td>30.92</td>\n",
       "      <td>0</td>\n",
       "      <td>7</td>\n",
       "    </tr>\n",
       "  </tbody>\n",
       "</table>\n",
       "</div>"
      ],
      "text/plain": [
       "       pet_id           issue_date         listing_date  condition  \\\n",
       "0  ANSL_75005  2005-08-17 00:00:00  2017-09-07 15:35:00        0.0   \n",
       "1  ANSL_76663  2018-11-15 00:00:00  2019-05-08 17:24:00        1.0   \n",
       "2  ANSL_58259  2012-10-11 00:00:00  2018-04-02 16:51:00        1.0   \n",
       "3  ANSL_67171  2015-02-13 00:00:00  2018-04-06 07:25:00        1.0   \n",
       "4  ANSL_72871  2017-01-18 00:00:00  2018-04-26 13:42:00        1.0   \n",
       "\n",
       "     color_type  length(m)  height(cm)  X1  X2  \n",
       "0         Black       0.87       42.73   0   7  \n",
       "1  Orange Tabby       0.06        6.71   0   1  \n",
       "2         Black       0.24       41.21   0   7  \n",
       "3         Black       0.29        8.46   7   1  \n",
       "4         Brown       0.71       30.92   0   7  "
      ]
     },
     "execution_count": 6,
     "metadata": {},
     "output_type": "execute_result"
    }
   ],
   "source": [
    "test.head()"
   ]
  },
  {
   "cell_type": "markdown",
   "metadata": {},
   "source": [
    "## information About features:\n",
    "\n",
    "1. issue_date: The date on which pet was issued to the shelter.\n",
    "2. listing_date: The date on which pet arrived at the shelter.\n",
    "3. condition: Condition of the pet.\n",
    "4. color_type: color of the pet.\n",
    "5. length(m): length of pet in meters.\n",
    "6. height(cm): height of pet in centimeters.\n",
    "7. X1 & X2 : anonymous features.\n",
    "8. breed_category: breed category of the pet(target variable)\n",
    "9. pet_category: category of the pet(target variable)."
   ]
  },
  {
   "cell_type": "code",
   "execution_count": 7,
   "metadata": {},
   "outputs": [
    {
     "name": "stdout",
     "output_type": "stream",
     "text": [
      "(18834, 11)\n",
      "(8072, 9)\n"
     ]
    }
   ],
   "source": [
    "print(train.shape)\n",
    "print(test.shape)"
   ]
  },
  {
   "cell_type": "code",
   "execution_count": 23,
   "metadata": {},
   "outputs": [
    {
     "data": {
      "text/plain": [
       "pet_id             object\n",
       "issue_date         object\n",
       "listing_date       object\n",
       "condition         float64\n",
       "color_type         object\n",
       "length(m)         float64\n",
       "height(cm)        float64\n",
       "X1                  int64\n",
       "X2                  int64\n",
       "breed_category      int64\n",
       "pet_category        int64\n",
       "dtype: object"
      ]
     },
     "execution_count": 23,
     "metadata": {},
     "output_type": "execute_result"
    }
   ],
   "source": [
    "train.dtypes"
   ]
  },
  {
   "cell_type": "markdown",
   "metadata": {},
   "source": [
    "# Exploratory Data Analysis"
   ]
  },
  {
   "cell_type": "markdown",
   "metadata": {},
   "source": [
    "### missing values"
   ]
  },
  {
   "cell_type": "code",
   "execution_count": 8,
   "metadata": {},
   "outputs": [
    {
     "data": {
      "text/plain": [
       "pet_id               0\n",
       "issue_date           0\n",
       "listing_date         0\n",
       "condition         1477\n",
       "color_type           0\n",
       "length(m)            0\n",
       "height(cm)           0\n",
       "X1                   0\n",
       "X2                   0\n",
       "breed_category       0\n",
       "pet_category         0\n",
       "dtype: int64"
      ]
     },
     "execution_count": 8,
     "metadata": {},
     "output_type": "execute_result"
    }
   ],
   "source": [
    "train.isnull().sum()"
   ]
  },
  {
   "cell_type": "code",
   "execution_count": 9,
   "metadata": {},
   "outputs": [
    {
     "data": {
      "text/plain": [
       "<matplotlib.axes._subplots.AxesSubplot at 0x1c6d8354e88>"
      ]
     },
     "execution_count": 9,
     "metadata": {},
     "output_type": "execute_result"
    },
    {
     "data": {
      "image/png": "[encoded data removed]",
      "text/plain": [
       "<Figure size 432x288 with 2 Axes>"
      ]
     },
     "metadata": {
      "needs_background": "light"
     },
     "output_type": "display_data"
    }
   ],
   "source": [
    "sns.heatmap(train.isnull(), yticklabels=False)"
   ]
  },
  {
   "cell_type": "markdown",
   "metadata": {},
   "source": [
    "As above, only condition column has missing values(1477), which are roughly around 8% of the data.\n",
    "if condition column has correlation with target/other variable we will try to fill those values or simply we can ignore condition column.lets check for correlation of variabls."
   ]
  },
  {
   "cell_type": "code",
   "execution_count": 10,
   "metadata": {},
   "outputs": [
    {
     "data": {
      "text/html": [
       "<div>\n",
       "<style scoped>\n",
       "    .dataframe tbody tr th:only-of-type {\n",
       "        vertical-align: middle;\n",
       "    }\n",
       "\n",
       "    .dataframe tbody tr th {\n",
       "        vertical-align: top;\n",
       "    }\n",
       "\n",
       "    .dataframe thead th {\n",
       "        text-align: right;\n",
       "    }\n",
       "</style>\n",
       "<table border=\"1\" class=\"dataframe\">\n",
       "  <thead>\n",
       "    <tr style=\"text-align: right;\">\n",
       "      <th></th>\n",
       "      <th>condition</th>\n",
       "      <th>length(m)</th>\n",
       "      <th>height(cm)</th>\n",
       "      <th>X1</th>\n",
       "      <th>X2</th>\n",
       "      <th>breed_category</th>\n",
       "      <th>pet_category</th>\n",
       "    </tr>\n",
       "  </thead>\n",
       "  <tbody>\n",
       "    <tr>\n",
       "      <td>condition</td>\n",
       "      <td>1.000000</td>\n",
       "      <td>-0.011219</td>\n",
       "      <td>-0.010793</td>\n",
       "      <td>0.338843</td>\n",
       "      <td>0.381696</td>\n",
       "      <td>-0.483503</td>\n",
       "      <td>-0.041660</td>\n",
       "    </tr>\n",
       "    <tr>\n",
       "      <td>length(m)</td>\n",
       "      <td>-0.011219</td>\n",
       "      <td>1.000000</td>\n",
       "      <td>-0.004464</td>\n",
       "      <td>-0.002893</td>\n",
       "      <td>-0.011175</td>\n",
       "      <td>0.007229</td>\n",
       "      <td>-0.003999</td>\n",
       "    </tr>\n",
       "    <tr>\n",
       "      <td>height(cm)</td>\n",
       "      <td>-0.010793</td>\n",
       "      <td>-0.004464</td>\n",
       "      <td>1.000000</td>\n",
       "      <td>-0.003801</td>\n",
       "      <td>-0.008216</td>\n",
       "      <td>0.011647</td>\n",
       "      <td>0.001976</td>\n",
       "    </tr>\n",
       "    <tr>\n",
       "      <td>X1</td>\n",
       "      <td>0.338843</td>\n",
       "      <td>-0.002893</td>\n",
       "      <td>-0.003801</td>\n",
       "      <td>1.000000</td>\n",
       "      <td>0.584396</td>\n",
       "      <td>0.240729</td>\n",
       "      <td>-0.032594</td>\n",
       "    </tr>\n",
       "    <tr>\n",
       "      <td>X2</td>\n",
       "      <td>0.381696</td>\n",
       "      <td>-0.011175</td>\n",
       "      <td>-0.008216</td>\n",
       "      <td>0.584396</td>\n",
       "      <td>1.000000</td>\n",
       "      <td>0.052530</td>\n",
       "      <td>-0.032116</td>\n",
       "    </tr>\n",
       "    <tr>\n",
       "      <td>breed_category</td>\n",
       "      <td>-0.483503</td>\n",
       "      <td>0.007229</td>\n",
       "      <td>0.011647</td>\n",
       "      <td>0.240729</td>\n",
       "      <td>0.052530</td>\n",
       "      <td>1.000000</td>\n",
       "      <td>0.209230</td>\n",
       "    </tr>\n",
       "    <tr>\n",
       "      <td>pet_category</td>\n",
       "      <td>-0.041660</td>\n",
       "      <td>-0.003999</td>\n",
       "      <td>0.001976</td>\n",
       "      <td>-0.032594</td>\n",
       "      <td>-0.032116</td>\n",
       "      <td>0.209230</td>\n",
       "      <td>1.000000</td>\n",
       "    </tr>\n",
       "  </tbody>\n",
       "</table>\n",
       "</div>"
      ],
      "text/plain": [
       "                condition  length(m)  height(cm)        X1        X2  \\\n",
       "condition        1.000000  -0.011219   -0.010793  0.338843  0.381696   \n",
       "length(m)       -0.011219   1.000000   -0.004464 -0.002893 -0.011175   \n",
       "height(cm)      -0.010793  -0.004464    1.000000 -0.003801 -0.008216   \n",
       "X1               0.338843  -0.002893   -0.003801  1.000000  0.584396   \n",
       "X2               0.381696  -0.011175   -0.008216  0.584396  1.000000   \n",
       "breed_category  -0.483503   0.007229    0.011647  0.240729  0.052530   \n",
       "pet_category    -0.041660  -0.003999    0.001976 -0.032594 -0.032116   \n",
       "\n",
       "                breed_category  pet_category  \n",
       "condition            -0.483503     -0.041660  \n",
       "length(m)             0.007229     -0.003999  \n",
       "height(cm)            0.011647      0.001976  \n",
       "X1                    0.240729     -0.032594  \n",
       "X2                    0.052530     -0.032116  \n",
       "breed_category        1.000000      0.209230  \n",
       "pet_category          0.209230      1.000000  "
      ]
     },
     "execution_count": 10,
     "metadata": {},
     "output_type": "execute_result"
    }
   ],
   "source": [
    "train.corr()"
   ]
  },
  {
   "cell_type": "code",
   "execution_count": 11,
   "metadata": {},
   "outputs": [
    {
     "data": {
      "text/plain": [
       "<matplotlib.axes._subplots.AxesSubplot at 0x1c6d862e988>"
      ]
     },
     "execution_count": 11,
     "metadata": {},
     "output_type": "execute_result"
    },
    {
     "data": {
      "image/png": "[encoded data removed]",
      "text/plain": [
       "<Figure size 432x288 with 2 Axes>"
      ]
     },
     "metadata": {
      "needs_background": "light"
     },
     "output_type": "display_data"
    }
   ],
   "source": [
    "sns.heatmap(train.corr())"
   ]
  },
  {
   "cell_type": "markdown",
   "metadata": {},
   "source": [
    "### Correlated variables\n",
    "1. X1 - X2\n",
    "2. X2 - breed_category\n",
    "3. length(m) - breed_category\n",
    "\n",
    "Condition feature is correlated to anonymous features X1 & X2 and in turn these features are correlated to breed category, so missing values are to be replaced by imputation."
   ]
  },
  {
   "cell_type": "code",
   "execution_count": 12,
   "metadata": {},
   "outputs": [
    {
     "data": {
      "text/plain": [
       "<matplotlib.axes._subplots.AxesSubplot at 0x1c6d8c95748>"
      ]
     },
     "execution_count": 12,
     "metadata": {},
     "output_type": "execute_result"
    },
    {
     "data": {
      "image/png": "[encoded data removed]",
      "text/plain": [
       "<Figure size 432x288 with 1 Axes>"
      ]
     },
     "metadata": {},
     "output_type": "display_data"
    }
   ],
   "source": [
    "sns.set_style('whitegrid')\n",
    "sns.countplot(train['breed_category'])"
   ]
  },
  {
   "cell_type": "code",
   "execution_count": 13,
   "metadata": {},
   "outputs": [
    {
     "data": {
      "text/plain": [
       "<matplotlib.axes._subplots.AxesSubplot at 0x1c6d8d05288>"
      ]
     },
     "execution_count": 13,
     "metadata": {},
     "output_type": "execute_result"
    },
    {
     "data": {
      "image/png": "[encoded data removed]",
      "text/plain": [
       "<Figure size 432x288 with 1 Axes>"
      ]
     },
     "metadata": {},
     "output_type": "display_data"
    }
   ],
   "source": [
    "sns.set_style('whitegrid')\n",
    "sns.countplot(train['pet_category'])"
   ]
  },
  {
   "cell_type": "code",
   "execution_count": 14,
   "metadata": {},
   "outputs": [
    {
     "data": {
      "text/plain": [
       "<matplotlib.axes._subplots.AxesSubplot at 0x1c6d8d67648>"
      ]
     },
     "execution_count": 14,
     "metadata": {},
     "output_type": "execute_result"
    },
    {
     "data": {
      "image/png": "[encoded data removed]",
      "text/plain": [
       "<Figure size 432x288 with 1 Axes>"
      ]
     },
     "metadata": {},
     "output_type": "display_data"
    }
   ],
   "source": [
    "sns.set_style('whitegrid')\n",
    "sns.countplot(x = 'breed_category', hue = 'condition', data = train)"
   ]
  },
  {
   "cell_type": "code",
   "execution_count": 15,
   "metadata": {},
   "outputs": [
    {
     "data": {
      "text/plain": [
       "<matplotlib.axes._subplots.AxesSubplot at 0x1c6d8dec808>"
      ]
     },
     "execution_count": 15,
     "metadata": {},
     "output_type": "execute_result"
    },
    {
     "data": {
      "image/png": "[encoded data removed]",
      "text/plain": [
       "<Figure size 432x288 with 1 Axes>"
      ]
     },
     "metadata": {},
     "output_type": "display_data"
    }
   ],
   "source": [
    "sns.set_style('whitegrid')\n",
    "sns.countplot(x = 'pet_category', hue = 'condition', data = train)"
   ]
  },
  {
   "cell_type": "code",
   "execution_count": 16,
   "metadata": {},
   "outputs": [
    {
     "data": {
      "text/plain": [
       "<matplotlib.axes._subplots.AxesSubplot at 0x1c6d94fdb08>"
      ]
     },
     "execution_count": 16,
     "metadata": {},
     "output_type": "execute_result"
    },
    {
     "data": {
      "image/png": "[encoded data removed]",
      "text/plain": [
       "<Figure size 864x288 with 1 Axes>"
      ]
     },
     "metadata": {},
     "output_type": "display_data"
    }
   ],
   "source": [
    "train['length(m)'].hist(color='pink',bins=40,figsize=(12,4))"
   ]
  },
  {
   "cell_type": "code",
   "execution_count": 63,
   "metadata": {},
   "outputs": [
    {
     "data": {
      "text/html": [
       "<div>\n",
       "<style scoped>\n",
       "    .dataframe tbody tr th:only-of-type {\n",
       "        vertical-align: middle;\n",
       "    }\n",
       "\n",
       "    .dataframe tbody tr th {\n",
       "        vertical-align: top;\n",
       "    }\n",
       "\n",
       "    .dataframe thead th {\n",
       "        text-align: right;\n",
       "    }\n",
       "</style>\n",
       "<table border=\"1\" class=\"dataframe\">\n",
       "  <thead>\n",
       "    <tr style=\"text-align: right;\">\n",
       "      <th></th>\n",
       "      <th>condition</th>\n",
       "      <th>length(m)</th>\n",
       "      <th>height(cm)</th>\n",
       "      <th>X1</th>\n",
       "      <th>X2</th>\n",
       "      <th>breed_category</th>\n",
       "      <th>pet_category</th>\n",
       "    </tr>\n",
       "  </thead>\n",
       "  <tbody>\n",
       "    <tr>\n",
       "      <td>count</td>\n",
       "      <td>18834.000000</td>\n",
       "      <td>18834.000000</td>\n",
       "      <td>18834.000000</td>\n",
       "      <td>18834.000000</td>\n",
       "      <td>18834.000000</td>\n",
       "      <td>18834.000000</td>\n",
       "      <td>18834.000000</td>\n",
       "    </tr>\n",
       "    <tr>\n",
       "      <td>mean</td>\n",
       "      <td>0.892535</td>\n",
       "      <td>0.502636</td>\n",
       "      <td>27.448832</td>\n",
       "      <td>5.369598</td>\n",
       "      <td>4.577307</td>\n",
       "      <td>0.600563</td>\n",
       "      <td>1.709143</td>\n",
       "    </tr>\n",
       "    <tr>\n",
       "      <td>std</td>\n",
       "      <td>0.740270</td>\n",
       "      <td>0.288705</td>\n",
       "      <td>13.019781</td>\n",
       "      <td>6.572366</td>\n",
       "      <td>3.517763</td>\n",
       "      <td>0.629883</td>\n",
       "      <td>0.717919</td>\n",
       "    </tr>\n",
       "    <tr>\n",
       "      <td>min</td>\n",
       "      <td>0.000000</td>\n",
       "      <td>0.000000</td>\n",
       "      <td>5.000000</td>\n",
       "      <td>0.000000</td>\n",
       "      <td>0.000000</td>\n",
       "      <td>0.000000</td>\n",
       "      <td>0.000000</td>\n",
       "    </tr>\n",
       "    <tr>\n",
       "      <td>25%</td>\n",
       "      <td>0.000000</td>\n",
       "      <td>0.250000</td>\n",
       "      <td>16.172500</td>\n",
       "      <td>0.000000</td>\n",
       "      <td>1.000000</td>\n",
       "      <td>0.000000</td>\n",
       "      <td>1.000000</td>\n",
       "    </tr>\n",
       "    <tr>\n",
       "      <td>50%</td>\n",
       "      <td>1.000000</td>\n",
       "      <td>0.500000</td>\n",
       "      <td>27.340000</td>\n",
       "      <td>0.000000</td>\n",
       "      <td>4.000000</td>\n",
       "      <td>1.000000</td>\n",
       "      <td>2.000000</td>\n",
       "    </tr>\n",
       "    <tr>\n",
       "      <td>75%</td>\n",
       "      <td>1.000000</td>\n",
       "      <td>0.760000</td>\n",
       "      <td>38.890000</td>\n",
       "      <td>13.000000</td>\n",
       "      <td>9.000000</td>\n",
       "      <td>1.000000</td>\n",
       "      <td>2.000000</td>\n",
       "    </tr>\n",
       "    <tr>\n",
       "      <td>max</td>\n",
       "      <td>2.000000</td>\n",
       "      <td>1.000000</td>\n",
       "      <td>50.000000</td>\n",
       "      <td>19.000000</td>\n",
       "      <td>9.000000</td>\n",
       "      <td>2.000000</td>\n",
       "      <td>4.000000</td>\n",
       "    </tr>\n",
       "  </tbody>\n",
       "</table>\n",
       "</div>"
      ],
      "text/plain": [
       "          condition     length(m)    height(cm)            X1            X2  \\\n",
       "count  18834.000000  18834.000000  18834.000000  18834.000000  18834.000000   \n",
       "mean       0.892535      0.502636     27.448832      5.369598      4.577307   \n",
       "std        0.740270      0.288705     13.019781      6.572366      3.517763   \n",
       "min        0.000000      0.000000      5.000000      0.000000      0.000000   \n",
       "25%        0.000000      0.250000     16.172500      0.000000      1.000000   \n",
       "50%        1.000000      0.500000     27.340000      0.000000      4.000000   \n",
       "75%        1.000000      0.760000     38.890000     13.000000      9.000000   \n",
       "max        2.000000      1.000000     50.000000     19.000000      9.000000   \n",
       "\n",
       "       breed_category  pet_category  \n",
       "count    18834.000000  18834.000000  \n",
       "mean         0.600563      1.709143  \n",
       "std          0.629883      0.717919  \n",
       "min          0.000000      0.000000  \n",
       "25%          0.000000      1.000000  \n",
       "50%          1.000000      2.000000  \n",
       "75%          1.000000      2.000000  \n",
       "max          2.000000      4.000000  "
      ]
     },
     "execution_count": 63,
     "metadata": {},
     "output_type": "execute_result"
    }
   ],
   "source": [
    "train.describe()"
   ]
  },
  {
   "cell_type": "markdown",
   "metadata": {},
   "source": [
    "## Filling missing values in condition variable with mode method.\n",
    "    same method will be used to fill data in test data set"
   ]
  },
  {
   "cell_type": "code",
   "execution_count": 20,
   "metadata": {},
   "outputs": [],
   "source": [
    "train['condition'].fillna(train['condition'].mode()[0], inplace = True)"
   ]
  },
  {
   "cell_type": "code",
   "execution_count": 21,
   "metadata": {},
   "outputs": [],
   "source": [
    "test['condition'].fillna(test['condition'].mode()[0], inplace = True)"
   ]
  },
  {
   "cell_type": "code",
   "execution_count": 22,
   "metadata": {},
   "outputs": [
    {
     "data": {
      "text/plain": [
       "pet_id            0\n",
       "issue_date        0\n",
       "listing_date      0\n",
       "condition         0\n",
       "color_type        0\n",
       "length(m)         0\n",
       "height(cm)        0\n",
       "X1                0\n",
       "X2                0\n",
       "breed_category    0\n",
       "pet_category      0\n",
       "dtype: int64"
      ]
     },
     "execution_count": 22,
     "metadata": {},
     "output_type": "execute_result"
    }
   ],
   "source": [
    "train.isnull().sum()"
   ]
  },
  {
   "cell_type": "markdown",
   "metadata": {},
   "source": [
    "### Identifying outliers, if any and Treating them."
   ]
  },
  {
   "cell_type": "code",
   "execution_count": 24,
   "metadata": {},
   "outputs": [
    {
     "data": {
      "text/plain": [
       "<matplotlib.axes._subplots.AxesSubplot at 0x1c6d97b6788>"
      ]
     },
     "execution_count": 24,
     "metadata": {},
     "output_type": "execute_result"
    },
    {
     "data": {
      "image/png": "[encoded data removed]",
      "text/plain": [
       "<Figure size 1152x360 with 1 Axes>"
      ]
     },
     "metadata": {},
     "output_type": "display_data"
    }
   ],
   "source": [
    "train['length(m)'].plot.box(figsize=(16,5))"
   ]
  },
  {
   "cell_type": "code",
   "execution_count": 25,
   "metadata": {},
   "outputs": [
    {
     "data": {
      "text/plain": [
       "<matplotlib.axes._subplots.AxesSubplot at 0x1c6d97af208>"
      ]
     },
     "execution_count": 25,
     "metadata": {},
     "output_type": "execute_result"
    },
    {
     "data": {
      "image/png": "[encoded data removed]",
      "text/plain": [
       "<Figure size 1152x360 with 1 Axes>"
      ]
     },
     "metadata": {},
     "output_type": "display_data"
    }
   ],
   "source": [
    "train['height(cm)'].plot.box(figsize=(16,5))"
   ]
  },
  {
   "cell_type": "code",
   "execution_count": 26,
   "metadata": {},
   "outputs": [
    {
     "data": {
      "text/plain": [
       "<matplotlib.axes._subplots.AxesSubplot at 0x1c6d99fa748>"
      ]
     },
     "execution_count": 26,
     "metadata": {},
     "output_type": "execute_result"
    },
    {
     "data": {
      "image/png": "[encoded data removed]",
      "text/plain": [
       "<Figure size 1152x360 with 1 Axes>"
      ]
     },
     "metadata": {},
     "output_type": "display_data"
    }
   ],
   "source": [
    "train['X1'].plot.box(figsize=(16,5))"
   ]
  },
  {
   "cell_type": "code",
   "execution_count": 27,
   "metadata": {},
   "outputs": [
    {
     "data": {
      "text/plain": [
       "<matplotlib.axes._subplots.AxesSubplot at 0x1c6d999c748>"
      ]
     },
     "execution_count": 27,
     "metadata": {},
     "output_type": "execute_result"
    },
    {
     "data": {
      "image/png": "[encoded data removed]",
      "text/plain": [
       "<Figure size 1152x360 with 1 Axes>"
      ]
     },
     "metadata": {},
     "output_type": "display_data"
    }
   ],
   "source": [
    "train['X2'].plot.box(figsize=(16,5))"
   ]
  },
  {
   "cell_type": "code",
   "execution_count": 28,
   "metadata": {},
   "outputs": [],
   "source": [
    "A = pd.get_dummies(train['color_type'])"
   ]
  },
  {
   "cell_type": "code",
   "execution_count": 29,
   "metadata": {},
   "outputs": [
    {
     "data": {
      "text/html": [
       "<div>\n",
       "<style scoped>\n",
       "    .dataframe tbody tr th:only-of-type {\n",
       "        vertical-align: middle;\n",
       "    }\n",
       "\n",
       "    .dataframe tbody tr th {\n",
       "        vertical-align: top;\n",
       "    }\n",
       "\n",
       "    .dataframe thead th {\n",
       "        text-align: right;\n",
       "    }\n",
       "</style>\n",
       "<table border=\"1\" class=\"dataframe\">\n",
       "  <thead>\n",
       "    <tr style=\"text-align: right;\">\n",
       "      <th></th>\n",
       "      <th>Agouti</th>\n",
       "      <th>Apricot</th>\n",
       "      <th>Black</th>\n",
       "      <th>Black Brindle</th>\n",
       "      <th>Black Smoke</th>\n",
       "      <th>Black Tabby</th>\n",
       "      <th>Black Tiger</th>\n",
       "      <th>Blue</th>\n",
       "      <th>Blue Cream</th>\n",
       "      <th>Blue Merle</th>\n",
       "      <th>...</th>\n",
       "      <th>Silver Lynx Point</th>\n",
       "      <th>Silver Tabby</th>\n",
       "      <th>Tan</th>\n",
       "      <th>Torbie</th>\n",
       "      <th>Tortie</th>\n",
       "      <th>Tortie Point</th>\n",
       "      <th>Tricolor</th>\n",
       "      <th>White</th>\n",
       "      <th>Yellow</th>\n",
       "      <th>Yellow Brindle</th>\n",
       "    </tr>\n",
       "  </thead>\n",
       "  <tbody>\n",
       "    <tr>\n",
       "      <td>0</td>\n",
       "      <td>0</td>\n",
       "      <td>0</td>\n",
       "      <td>0</td>\n",
       "      <td>0</td>\n",
       "      <td>0</td>\n",
       "      <td>0</td>\n",
       "      <td>0</td>\n",
       "      <td>0</td>\n",
       "      <td>0</td>\n",
       "      <td>0</td>\n",
       "      <td>...</td>\n",
       "      <td>0</td>\n",
       "      <td>0</td>\n",
       "      <td>0</td>\n",
       "      <td>0</td>\n",
       "      <td>0</td>\n",
       "      <td>0</td>\n",
       "      <td>0</td>\n",
       "      <td>0</td>\n",
       "      <td>0</td>\n",
       "      <td>0</td>\n",
       "    </tr>\n",
       "    <tr>\n",
       "      <td>1</td>\n",
       "      <td>0</td>\n",
       "      <td>0</td>\n",
       "      <td>0</td>\n",
       "      <td>0</td>\n",
       "      <td>0</td>\n",
       "      <td>0</td>\n",
       "      <td>0</td>\n",
       "      <td>0</td>\n",
       "      <td>0</td>\n",
       "      <td>0</td>\n",
       "      <td>...</td>\n",
       "      <td>0</td>\n",
       "      <td>0</td>\n",
       "      <td>0</td>\n",
       "      <td>0</td>\n",
       "      <td>0</td>\n",
       "      <td>0</td>\n",
       "      <td>0</td>\n",
       "      <td>1</td>\n",
       "      <td>0</td>\n",
       "      <td>0</td>\n",
       "    </tr>\n",
       "    <tr>\n",
       "      <td>2</td>\n",
       "      <td>0</td>\n",
       "      <td>0</td>\n",
       "      <td>0</td>\n",
       "      <td>0</td>\n",
       "      <td>0</td>\n",
       "      <td>0</td>\n",
       "      <td>0</td>\n",
       "      <td>0</td>\n",
       "      <td>0</td>\n",
       "      <td>0</td>\n",
       "      <td>...</td>\n",
       "      <td>0</td>\n",
       "      <td>0</td>\n",
       "      <td>0</td>\n",
       "      <td>0</td>\n",
       "      <td>0</td>\n",
       "      <td>0</td>\n",
       "      <td>0</td>\n",
       "      <td>0</td>\n",
       "      <td>0</td>\n",
       "      <td>0</td>\n",
       "    </tr>\n",
       "    <tr>\n",
       "      <td>3</td>\n",
       "      <td>0</td>\n",
       "      <td>0</td>\n",
       "      <td>0</td>\n",
       "      <td>0</td>\n",
       "      <td>0</td>\n",
       "      <td>0</td>\n",
       "      <td>0</td>\n",
       "      <td>0</td>\n",
       "      <td>0</td>\n",
       "      <td>0</td>\n",
       "      <td>...</td>\n",
       "      <td>0</td>\n",
       "      <td>0</td>\n",
       "      <td>0</td>\n",
       "      <td>0</td>\n",
       "      <td>0</td>\n",
       "      <td>0</td>\n",
       "      <td>0</td>\n",
       "      <td>1</td>\n",
       "      <td>0</td>\n",
       "      <td>0</td>\n",
       "    </tr>\n",
       "    <tr>\n",
       "      <td>4</td>\n",
       "      <td>0</td>\n",
       "      <td>0</td>\n",
       "      <td>1</td>\n",
       "      <td>0</td>\n",
       "      <td>0</td>\n",
       "      <td>0</td>\n",
       "      <td>0</td>\n",
       "      <td>0</td>\n",
       "      <td>0</td>\n",
       "      <td>0</td>\n",
       "      <td>...</td>\n",
       "      <td>0</td>\n",
       "      <td>0</td>\n",
       "      <td>0</td>\n",
       "      <td>0</td>\n",
       "      <td>0</td>\n",
       "      <td>0</td>\n",
       "      <td>0</td>\n",
       "      <td>0</td>\n",
       "      <td>0</td>\n",
       "      <td>0</td>\n",
       "    </tr>\n",
       "  </tbody>\n",
       "</table>\n",
       "<p>5 rows × 56 columns</p>\n",
       "</div>"
      ],
      "text/plain": [
       "   Agouti  Apricot  Black  Black Brindle  Black Smoke  Black Tabby  \\\n",
       "0       0        0      0              0            0            0   \n",
       "1       0        0      0              0            0            0   \n",
       "2       0        0      0              0            0            0   \n",
       "3       0        0      0              0            0            0   \n",
       "4       0        0      1              0            0            0   \n",
       "\n",
       "   Black Tiger  Blue  Blue Cream  Blue Merle  ...  Silver Lynx Point  \\\n",
       "0            0     0           0           0  ...                  0   \n",
       "1            0     0           0           0  ...                  0   \n",
       "2            0     0           0           0  ...                  0   \n",
       "3            0     0           0           0  ...                  0   \n",
       "4            0     0           0           0  ...                  0   \n",
       "\n",
       "   Silver Tabby  Tan  Torbie  Tortie  Tortie Point  Tricolor  White  Yellow  \\\n",
       "0             0    0       0       0             0         0      0       0   \n",
       "1             0    0       0       0             0         0      1       0   \n",
       "2             0    0       0       0             0         0      0       0   \n",
       "3             0    0       0       0             0         0      1       0   \n",
       "4             0    0       0       0             0         0      0       0   \n",
       "\n",
       "   Yellow Brindle  \n",
       "0               0  \n",
       "1               0  \n",
       "2               0  \n",
       "3               0  \n",
       "4               0  \n",
       "\n",
       "[5 rows x 56 columns]"
      ]
     },
     "execution_count": 29,
     "metadata": {},
     "output_type": "execute_result"
    }
   ],
   "source": [
    "A.head()"
   ]
  },
  {
   "cell_type": "markdown",
   "metadata": {},
   "source": [
    "There are no outliers in data and data preprocessing has been done,so now moving to build a ML model."
   ]
  },
  {
   "cell_type": "markdown",
   "metadata": {},
   "source": [
    "# Building a Logistic Regression model\n",
    "lets start by spliting the data into a training and test set."
   ]
  },
  {
   "cell_type": "code",
   "execution_count": 130,
   "metadata": {},
   "outputs": [
    {
     "data": {
      "text/html": [
       "<div>\n",
       "<style scoped>\n",
       "    .dataframe tbody tr th:only-of-type {\n",
       "        vertical-align: middle;\n",
       "    }\n",
       "\n",
       "    .dataframe tbody tr th {\n",
       "        vertical-align: top;\n",
       "    }\n",
       "\n",
       "    .dataframe thead th {\n",
       "        text-align: right;\n",
       "    }\n",
       "</style>\n",
       "<table border=\"1\" class=\"dataframe\">\n",
       "  <thead>\n",
       "    <tr style=\"text-align: right;\">\n",
       "      <th></th>\n",
       "      <th>condition</th>\n",
       "      <th>length(m)</th>\n",
       "      <th>height(cm)</th>\n",
       "      <th>X1</th>\n",
       "      <th>X2</th>\n",
       "      <th>pet_category</th>\n",
       "      <th>Agouti</th>\n",
       "      <th>Apricot</th>\n",
       "      <th>Black</th>\n",
       "      <th>Black Brindle</th>\n",
       "      <th>...</th>\n",
       "      <th>Silver Lynx Point</th>\n",
       "      <th>Silver Tabby</th>\n",
       "      <th>Tan</th>\n",
       "      <th>Torbie</th>\n",
       "      <th>Tortie</th>\n",
       "      <th>Tortie Point</th>\n",
       "      <th>Tricolor</th>\n",
       "      <th>White</th>\n",
       "      <th>Yellow</th>\n",
       "      <th>Yellow Brindle</th>\n",
       "    </tr>\n",
       "  </thead>\n",
       "  <tbody>\n",
       "    <tr>\n",
       "      <td>0</td>\n",
       "      <td>2.0</td>\n",
       "      <td>0.80</td>\n",
       "      <td>7.78</td>\n",
       "      <td>13</td>\n",
       "      <td>9</td>\n",
       "      <td>1</td>\n",
       "      <td>0</td>\n",
       "      <td>0</td>\n",
       "      <td>0</td>\n",
       "      <td>0</td>\n",
       "      <td>...</td>\n",
       "      <td>0</td>\n",
       "      <td>0</td>\n",
       "      <td>0</td>\n",
       "      <td>0</td>\n",
       "      <td>0</td>\n",
       "      <td>0</td>\n",
       "      <td>0</td>\n",
       "      <td>0</td>\n",
       "      <td>0</td>\n",
       "      <td>0</td>\n",
       "    </tr>\n",
       "    <tr>\n",
       "      <td>1</td>\n",
       "      <td>1.0</td>\n",
       "      <td>0.72</td>\n",
       "      <td>14.19</td>\n",
       "      <td>13</td>\n",
       "      <td>9</td>\n",
       "      <td>2</td>\n",
       "      <td>0</td>\n",
       "      <td>0</td>\n",
       "      <td>0</td>\n",
       "      <td>0</td>\n",
       "      <td>...</td>\n",
       "      <td>0</td>\n",
       "      <td>0</td>\n",
       "      <td>0</td>\n",
       "      <td>0</td>\n",
       "      <td>0</td>\n",
       "      <td>0</td>\n",
       "      <td>0</td>\n",
       "      <td>1</td>\n",
       "      <td>0</td>\n",
       "      <td>0</td>\n",
       "    </tr>\n",
       "    <tr>\n",
       "      <td>2</td>\n",
       "      <td>1.0</td>\n",
       "      <td>0.15</td>\n",
       "      <td>40.90</td>\n",
       "      <td>15</td>\n",
       "      <td>4</td>\n",
       "      <td>4</td>\n",
       "      <td>0</td>\n",
       "      <td>0</td>\n",
       "      <td>0</td>\n",
       "      <td>0</td>\n",
       "      <td>...</td>\n",
       "      <td>0</td>\n",
       "      <td>0</td>\n",
       "      <td>0</td>\n",
       "      <td>0</td>\n",
       "      <td>0</td>\n",
       "      <td>0</td>\n",
       "      <td>0</td>\n",
       "      <td>0</td>\n",
       "      <td>0</td>\n",
       "      <td>0</td>\n",
       "    </tr>\n",
       "    <tr>\n",
       "      <td>3</td>\n",
       "      <td>1.0</td>\n",
       "      <td>0.62</td>\n",
       "      <td>17.82</td>\n",
       "      <td>0</td>\n",
       "      <td>1</td>\n",
       "      <td>2</td>\n",
       "      <td>0</td>\n",
       "      <td>0</td>\n",
       "      <td>0</td>\n",
       "      <td>0</td>\n",
       "      <td>...</td>\n",
       "      <td>0</td>\n",
       "      <td>0</td>\n",
       "      <td>0</td>\n",
       "      <td>0</td>\n",
       "      <td>0</td>\n",
       "      <td>0</td>\n",
       "      <td>0</td>\n",
       "      <td>1</td>\n",
       "      <td>0</td>\n",
       "      <td>0</td>\n",
       "    </tr>\n",
       "    <tr>\n",
       "      <td>4</td>\n",
       "      <td>2.0</td>\n",
       "      <td>0.50</td>\n",
       "      <td>11.06</td>\n",
       "      <td>18</td>\n",
       "      <td>4</td>\n",
       "      <td>1</td>\n",
       "      <td>0</td>\n",
       "      <td>0</td>\n",
       "      <td>1</td>\n",
       "      <td>0</td>\n",
       "      <td>...</td>\n",
       "      <td>0</td>\n",
       "      <td>0</td>\n",
       "      <td>0</td>\n",
       "      <td>0</td>\n",
       "      <td>0</td>\n",
       "      <td>0</td>\n",
       "      <td>0</td>\n",
       "      <td>0</td>\n",
       "      <td>0</td>\n",
       "      <td>0</td>\n",
       "    </tr>\n",
       "  </tbody>\n",
       "</table>\n",
       "<p>5 rows × 62 columns</p>\n",
       "</div>"
      ],
      "text/plain": [
       "   condition  length(m)  height(cm)  X1  X2  pet_category  Agouti  Apricot  \\\n",
       "0        2.0       0.80        7.78  13   9             1       0        0   \n",
       "1        1.0       0.72       14.19  13   9             2       0        0   \n",
       "2        1.0       0.15       40.90  15   4             4       0        0   \n",
       "3        1.0       0.62       17.82   0   1             2       0        0   \n",
       "4        2.0       0.50       11.06  18   4             1       0        0   \n",
       "\n",
       "   Black  Black Brindle  ...  Silver Lynx Point  Silver Tabby  Tan  Torbie  \\\n",
       "0      0              0  ...                  0             0    0       0   \n",
       "1      0              0  ...                  0             0    0       0   \n",
       "2      0              0  ...                  0             0    0       0   \n",
       "3      0              0  ...                  0             0    0       0   \n",
       "4      1              0  ...                  0             0    0       0   \n",
       "\n",
       "   Tortie  Tortie Point  Tricolor  White  Yellow  Yellow Brindle  \n",
       "0       0             0         0      0       0               0  \n",
       "1       0             0         0      1       0               0  \n",
       "2       0             0         0      0       0               0  \n",
       "3       0             0         0      1       0               0  \n",
       "4       0             0         0      0       0               0  \n",
       "\n",
       "[5 rows x 62 columns]"
      ]
     },
     "execution_count": 130,
     "metadata": {},
     "output_type": "execute_result"
    }
   ],
   "source": [
    "X = pd.concat([train[['condition', 'length(m)', 'height(cm)', 'X1', 'X2', 'pet_category']], pd.get_dummies(train['color_type'])],axis = 1)\n",
    "X.head()"
   ]
  },
  {
   "cell_type": "code",
   "execution_count": 131,
   "metadata": {},
   "outputs": [],
   "source": [
    "y = train['breed_category'].values"
   ]
  },
  {
   "cell_type": "code",
   "execution_count": 132,
   "metadata": {},
   "outputs": [
    {
     "data": {
      "text/plain": [
       "array([[ 1.49606758,  1.0300209 , -1.51072853,  1.16101336,  1.25727915,\n",
       "        -0.98780142, -0.01457487, -0.02628151, -0.57011548, -0.05930113,\n",
       "        -0.04125466, -0.05411842, -0.00728686, -0.21767111, -0.02304857,\n",
       "        -0.0745157 , -0.03260427, -0.01785145, -0.14465019, -0.03341032,\n",
       "        -0.02304857, -0.32417146, -0.16446173, -0.04555239,  3.18813375,\n",
       "        -0.01457487, -0.08173908, -0.13619679, -0.02524979, -0.11808248,\n",
       "        -0.02186522, -0.09314554, -0.10121824, -0.09227164, -0.05261757,\n",
       "        -0.04060386, -0.12872611, -0.0588486 , -0.02061418, -0.03177786,\n",
       "        -0.01262188, -0.00728686, -0.07906328, -0.04555239, -0.20937936,\n",
       "        -0.02061418, -0.16950106, -0.02628151, -0.03496697, -0.09458472,\n",
       "        -0.06448774, -0.03571998, -0.01457487, -0.03092948, -0.27776221,\n",
       "        -0.11408922, -0.14077664, -0.03718051, -0.15980522, -0.38697113,\n",
       "        -0.08746851, -0.02823237],\n",
       "       [ 0.14517407,  0.75291413, -1.01838767,  1.16101336,  1.25727915,\n",
       "         0.40514946, -0.01457487, -0.02628151, -0.57011548, -0.05930113,\n",
       "        -0.04125466, -0.05411842, -0.00728686, -0.21767111, -0.02304857,\n",
       "        -0.0745157 , -0.03260427, -0.01785145, -0.14465019, -0.03341032,\n",
       "        -0.02304857, -0.32417146, -0.16446173, -0.04555239, -0.31366313,\n",
       "        -0.01457487, -0.08173908, -0.13619679, -0.02524979, -0.11808248,\n",
       "        -0.02186522, -0.09314554, -0.10121824, -0.09227164, -0.05261757,\n",
       "        -0.04060386, -0.12872611, -0.0588486 , -0.02061418, -0.03177786,\n",
       "        -0.01262188, -0.00728686, -0.07906328, -0.04555239, -0.20937936,\n",
       "        -0.02061418, -0.16950106, -0.02628151, -0.03496697, -0.09458472,\n",
       "        -0.06448774, -0.03571998, -0.01457487, -0.03092948, -0.27776221,\n",
       "        -0.11408922, -0.14077664, -0.03718051, -0.15980522,  2.58417209,\n",
       "        -0.08746851, -0.02823237],\n",
       "       [ 0.14517407, -1.2214716 ,  1.03316059,  1.46532585, -0.16411631,\n",
       "         3.19105122, -0.01457487, -0.02628151, -0.57011548, -0.05930113,\n",
       "        -0.04125466, -0.05411842, -0.00728686, -0.21767111, -0.02304857,\n",
       "        -0.0745157 , -0.03260427, -0.01785145, -0.14465019, -0.03341032,\n",
       "        -0.02304857,  3.08478733, -0.16446173, -0.04555239, -0.31366313,\n",
       "        -0.01457487, -0.08173908, -0.13619679, -0.02524979, -0.11808248,\n",
       "        -0.02186522, -0.09314554, -0.10121824, -0.09227164, -0.05261757,\n",
       "        -0.04060386, -0.12872611, -0.0588486 , -0.02061418, -0.03177786,\n",
       "        -0.01262188, -0.00728686, -0.07906328, -0.04555239, -0.20937936,\n",
       "        -0.02061418, -0.16950106, -0.02628151, -0.03496697, -0.09458472,\n",
       "        -0.06448774, -0.03571998, -0.01457487, -0.03092948, -0.27776221,\n",
       "        -0.11408922, -0.14077664, -0.03718051, -0.15980522, -0.38697113,\n",
       "        -0.08746851, -0.02823237],\n",
       "       [ 0.14517407,  0.40653067, -0.73957373, -0.81701778, -1.01695359,\n",
       "         0.40514946, -0.01457487, -0.02628151, -0.57011548, -0.05930113,\n",
       "        -0.04125466, -0.05411842, -0.00728686, -0.21767111, -0.02304857,\n",
       "        -0.0745157 , -0.03260427, -0.01785145, -0.14465019, -0.03341032,\n",
       "        -0.02304857, -0.32417146, -0.16446173, -0.04555239, -0.31366313,\n",
       "        -0.01457487, -0.08173908, -0.13619679, -0.02524979, -0.11808248,\n",
       "        -0.02186522, -0.09314554, -0.10121824, -0.09227164, -0.05261757,\n",
       "        -0.04060386, -0.12872611, -0.0588486 , -0.02061418, -0.03177786,\n",
       "        -0.01262188, -0.00728686, -0.07906328, -0.04555239, -0.20937936,\n",
       "        -0.02061418, -0.16950106, -0.02628151, -0.03496697, -0.09458472,\n",
       "        -0.06448774, -0.03571998, -0.01457487, -0.03092948, -0.27776221,\n",
       "        -0.11408922, -0.14077664, -0.03718051, -0.15980522,  2.58417209,\n",
       "        -0.08746851, -0.02823237],\n",
       "       [ 1.49606758, -0.00912949, -1.25879748,  1.92179457, -0.16411631,\n",
       "        -0.98780142, -0.01457487, -0.02628151,  1.75403061, -0.05930113,\n",
       "        -0.04125466, -0.05411842, -0.00728686, -0.21767111, -0.02304857,\n",
       "        -0.0745157 , -0.03260427, -0.01785145, -0.14465019, -0.03341032,\n",
       "        -0.02304857, -0.32417146, -0.16446173, -0.04555239, -0.31366313,\n",
       "        -0.01457487, -0.08173908, -0.13619679, -0.02524979, -0.11808248,\n",
       "        -0.02186522, -0.09314554, -0.10121824, -0.09227164, -0.05261757,\n",
       "        -0.04060386, -0.12872611, -0.0588486 , -0.02061418, -0.03177786,\n",
       "        -0.01262188, -0.00728686, -0.07906328, -0.04555239, -0.20937936,\n",
       "        -0.02061418, -0.16950106, -0.02628151, -0.03496697, -0.09458472,\n",
       "        -0.06448774, -0.03571998, -0.01457487, -0.03092948, -0.27776221,\n",
       "        -0.11408922, -0.14077664, -0.03718051, -0.15980522, -0.38697113,\n",
       "        -0.08746851, -0.02823237]])"
      ]
     },
     "execution_count": 132,
     "metadata": {},
     "output_type": "execute_result"
    }
   ],
   "source": [
    "from sklearn import preprocessing\n",
    "\n",
    "X = preprocessing.StandardScaler().fit(X).transform(X)\n",
    "X[0:5]"
   ]
  },
  {
   "cell_type": "code",
   "execution_count": 133,
   "metadata": {},
   "outputs": [],
   "source": [
    "from sklearn.model_selection import train_test_split"
   ]
  },
  {
   "cell_type": "code",
   "execution_count": 134,
   "metadata": {},
   "outputs": [],
   "source": [
    "X_train, X_test, y_train, y_test = train_test_split(X, y, test_size = 0.3, random_state = 100)"
   ]
  },
  {
   "cell_type": "code",
   "execution_count": 135,
   "metadata": {},
   "outputs": [],
   "source": [
    "from sklearn.linear_model import LogisticRegression"
   ]
  },
  {
   "cell_type": "code",
   "execution_count": 136,
   "metadata": {},
   "outputs": [
    {
     "name": "stderr",
     "output_type": "stream",
     "text": [
      "C:\\Users\\dell\\Anaconda3\\lib\\site-packages\\sklearn\\linear_model\\logistic.py:469: FutureWarning: Default multi_class will be changed to 'auto' in 0.22. Specify the multi_class option to silence this warning.\n",
      "  \"this warning.\", FutureWarning)\n"
     ]
    },
    {
     "data": {
      "text/plain": [
       "array([2, 1, 0, 0, 0], dtype=int64)"
      ]
     },
     "execution_count": 136,
     "metadata": {},
     "output_type": "execute_result"
    }
   ],
   "source": [
    "LR = LogisticRegression(C=0.01, solver = 'liblinear')\n",
    "LR.fit(X_train,y_train)\n",
    "yhat_LR = LR.predict(X_test)\n",
    "yhat_LR[0:5]"
   ]
  },
  {
   "cell_type": "code",
   "execution_count": 137,
   "metadata": {},
   "outputs": [],
   "source": [
    "from sklearn.metrics import confusion_matrix"
   ]
  },
  {
   "cell_type": "code",
   "execution_count": 138,
   "metadata": {},
   "outputs": [
    {
     "data": {
      "text/plain": [
       "array([[2339,  324,   15],\n",
       "       [ 557, 1961,    6],\n",
       "       [  60,  172,  217]], dtype=int64)"
      ]
     },
     "execution_count": 138,
     "metadata": {},
     "output_type": "execute_result"
    }
   ],
   "source": [
    "accuracy = confusion_matrix(y_test, yhat_LR)\n",
    "accuracy"
   ]
  },
  {
   "cell_type": "code",
   "execution_count": 139,
   "metadata": {},
   "outputs": [],
   "source": [
    "from sklearn.metrics import accuracy_score"
   ]
  },
  {
   "cell_type": "code",
   "execution_count": 140,
   "metadata": {},
   "outputs": [
    {
     "data": {
      "text/plain": [
       "0.7993275526455494"
      ]
     },
     "execution_count": 140,
     "metadata": {},
     "output_type": "execute_result"
    }
   ],
   "source": [
    "accu = accuracy_score(y_test, yhat_LR)\n",
    "accu"
   ]
  },
  {
   "cell_type": "code",
   "execution_count": 41,
   "metadata": {},
   "outputs": [
    {
     "data": {
      "text/plain": [
       "array([2, 1, 0, 0, 0], dtype=int64)"
      ]
     },
     "execution_count": 41,
     "metadata": {},
     "output_type": "execute_result"
    }
   ],
   "source": [
    "from sklearn.tree import DecisionTreeClassifier\n",
    "dtree = DecisionTreeClassifier(criterion=\"entropy\", max_depth=4)\n",
    "dtree.fit(X_train,y_train)\n",
    "yhat_tree = dtree.predict(X_test)\n",
    "yhat_tree[0:5]"
   ]
  },
  {
   "cell_type": "code",
   "execution_count": 42,
   "metadata": {},
   "outputs": [
    {
     "name": "stdout",
     "output_type": "stream",
     "text": [
      "Decision Tree Accuracy: 0.8625022119978765\n"
     ]
    }
   ],
   "source": [
    "print(\"Decision Tree Accuracy:\", accuracy_score(y_test, yhat_tree))"
   ]
  },
  {
   "cell_type": "code",
   "execution_count": 43,
   "metadata": {},
   "outputs": [
    {
     "name": "stderr",
     "output_type": "stream",
     "text": [
      "C:\\Users\\dell\\Anaconda3\\lib\\site-packages\\sklearn\\svm\\base.py:193: FutureWarning: The default value of gamma will change from 'auto' to 'scale' in version 0.22 to account better for unscaled features. Set gamma explicitly to 'auto' or 'scale' to avoid this warning.\n",
      "  \"avoid this warning.\", FutureWarning)\n"
     ]
    },
    {
     "data": {
      "text/plain": [
       "array([2, 1, 0, 0, 0], dtype=int64)"
      ]
     },
     "execution_count": 43,
     "metadata": {},
     "output_type": "execute_result"
    }
   ],
   "source": [
    "from sklearn import svm\n",
    "clf = svm.SVC(kernel='rbf')\n",
    "clf.fit(X_train, y_train)\n",
    "yhat_svm = clf.predict(X_test)\n",
    "yhat_svm[0:5]"
   ]
  },
  {
   "cell_type": "code",
   "execution_count": 44,
   "metadata": {},
   "outputs": [
    {
     "name": "stdout",
     "output_type": "stream",
     "text": [
      "SVM Accuracy: 0.8494071845691028\n"
     ]
    }
   ],
   "source": [
    "print(\"SVM Accuracy:\",accuracy_score(y_test, yhat_svm))"
   ]
  },
  {
   "cell_type": "code",
   "execution_count": 45,
   "metadata": {},
   "outputs": [
    {
     "data": {
      "text/plain": [
       "array([0.85737038, 0.85223854, 0.85347726, 0.8559547 , 0.8533003 ,\n",
       "       0.85206158, 0.85117678, 0.84993806, 0.85011502])"
      ]
     },
     "execution_count": 45,
     "metadata": {},
     "output_type": "execute_result"
    }
   ],
   "source": [
    "from sklearn.neighbors import KNeighborsClassifier\n",
    "\n",
    "k = 10\n",
    "mean_acc = np.zeros((k-1))\n",
    "std_acc = np.zeros((k-1))\n",
    "confMx = []\n",
    "for n in range(1,k):\n",
    "    \n",
    "    neigh = KNeighborsClassifier(n_neighbors=n).fit(X_train, y_train)\n",
    "    yhat = neigh.predict(X_test)\n",
    "    mean_acc[n-1] = accuracy_score(yhat, y_test)\n",
    "    \n",
    "    \n",
    "    std_acc[n-1] = np.std(yhat==y_test)/np.sqrt(yhat.shape[0])\n",
    "    \n",
    "mean_acc"
   ]
  },
  {
   "cell_type": "code",
   "execution_count": 46,
   "metadata": {},
   "outputs": [
    {
     "data": {
      "image/png": "[encoded data removed]",
      "text/plain": [
       "<Figure size 432x288 with 1 Axes>"
      ]
     },
     "metadata": {},
     "output_type": "display_data"
    }
   ],
   "source": [
    "plt.plot(range(1,k), mean_acc,'g')\n",
    "plt.fill_between(range(1,k), mean_acc - 1*std_acc, mean_acc - 1*std_acc, alpha = 0.20)\n",
    "plt.legend(('Accuracy','+/-3xstd'))\n",
    "plt.ylabel('Accuracy')\n",
    "plt.xlabel('Number of neighbors (k)')\n",
    "plt.tight_layout\n",
    "plt.show()"
   ]
  },
  {
   "cell_type": "code",
   "execution_count": 47,
   "metadata": {},
   "outputs": [
    {
     "name": "stdout",
     "output_type": "stream",
     "text": [
      "The best accuracy was  0.8573703769244382 with k =  1\n"
     ]
    }
   ],
   "source": [
    "print(\"The best accuracy was \", mean_acc.max(), \"with k = \", mean_acc.argmax()+1)"
   ]
  },
  {
   "cell_type": "code",
   "execution_count": 48,
   "metadata": {},
   "outputs": [
    {
     "name": "stdout",
     "output_type": "stream",
     "text": [
      "              precision    recall  f1-score   support\n",
      "\n",
      "           0       0.79      0.87      0.83      2678\n",
      "           1       0.80      0.78      0.79      2524\n",
      "           2       0.91      0.48      0.63       449\n",
      "\n",
      "    accuracy                           0.80      5651\n",
      "   macro avg       0.83      0.71      0.75      5651\n",
      "weighted avg       0.80      0.80      0.80      5651\n",
      "\n"
     ]
    }
   ],
   "source": [
    "from sklearn.metrics import classification_report\n",
    "\n",
    "print(classification_report(y_test, yhat_LR))"
   ]
  },
  {
   "cell_type": "code",
   "execution_count": null,
   "metadata": {},
   "outputs": [],
   "source": []
  },
  {
   "cell_type": "markdown",
   "metadata": {},
   "source": [
    "## pet_category"
   ]
  },
  {
   "cell_type": "code",
   "execution_count": 94,
   "metadata": {},
   "outputs": [
    {
     "data": {
      "text/html": [
       "<div>\n",
       "<style scoped>\n",
       "    .dataframe tbody tr th:only-of-type {\n",
       "        vertical-align: middle;\n",
       "    }\n",
       "\n",
       "    .dataframe tbody tr th {\n",
       "        vertical-align: top;\n",
       "    }\n",
       "\n",
       "    .dataframe thead th {\n",
       "        text-align: right;\n",
       "    }\n",
       "</style>\n",
       "<table border=\"1\" class=\"dataframe\">\n",
       "  <thead>\n",
       "    <tr style=\"text-align: right;\">\n",
       "      <th></th>\n",
       "      <th>length(m)</th>\n",
       "      <th>height(cm)</th>\n",
       "      <th>X1</th>\n",
       "      <th>X2</th>\n",
       "      <th>breed_category</th>\n",
       "      <th>Agouti</th>\n",
       "      <th>Apricot</th>\n",
       "      <th>Black</th>\n",
       "      <th>Black Brindle</th>\n",
       "      <th>Black Smoke</th>\n",
       "      <th>...</th>\n",
       "      <th>Silver Lynx Point</th>\n",
       "      <th>Silver Tabby</th>\n",
       "      <th>Tan</th>\n",
       "      <th>Torbie</th>\n",
       "      <th>Tortie</th>\n",
       "      <th>Tortie Point</th>\n",
       "      <th>Tricolor</th>\n",
       "      <th>White</th>\n",
       "      <th>Yellow</th>\n",
       "      <th>Yellow Brindle</th>\n",
       "    </tr>\n",
       "  </thead>\n",
       "  <tbody>\n",
       "    <tr>\n",
       "      <td>0</td>\n",
       "      <td>0.80</td>\n",
       "      <td>7.78</td>\n",
       "      <td>13</td>\n",
       "      <td>9</td>\n",
       "      <td>0</td>\n",
       "      <td>0</td>\n",
       "      <td>0</td>\n",
       "      <td>0</td>\n",
       "      <td>0</td>\n",
       "      <td>0</td>\n",
       "      <td>...</td>\n",
       "      <td>0</td>\n",
       "      <td>0</td>\n",
       "      <td>0</td>\n",
       "      <td>0</td>\n",
       "      <td>0</td>\n",
       "      <td>0</td>\n",
       "      <td>0</td>\n",
       "      <td>0</td>\n",
       "      <td>0</td>\n",
       "      <td>0</td>\n",
       "    </tr>\n",
       "    <tr>\n",
       "      <td>1</td>\n",
       "      <td>0.72</td>\n",
       "      <td>14.19</td>\n",
       "      <td>13</td>\n",
       "      <td>9</td>\n",
       "      <td>0</td>\n",
       "      <td>0</td>\n",
       "      <td>0</td>\n",
       "      <td>0</td>\n",
       "      <td>0</td>\n",
       "      <td>0</td>\n",
       "      <td>...</td>\n",
       "      <td>0</td>\n",
       "      <td>0</td>\n",
       "      <td>0</td>\n",
       "      <td>0</td>\n",
       "      <td>0</td>\n",
       "      <td>0</td>\n",
       "      <td>0</td>\n",
       "      <td>1</td>\n",
       "      <td>0</td>\n",
       "      <td>0</td>\n",
       "    </tr>\n",
       "    <tr>\n",
       "      <td>2</td>\n",
       "      <td>0.15</td>\n",
       "      <td>40.90</td>\n",
       "      <td>15</td>\n",
       "      <td>4</td>\n",
       "      <td>2</td>\n",
       "      <td>0</td>\n",
       "      <td>0</td>\n",
       "      <td>0</td>\n",
       "      <td>0</td>\n",
       "      <td>0</td>\n",
       "      <td>...</td>\n",
       "      <td>0</td>\n",
       "      <td>0</td>\n",
       "      <td>0</td>\n",
       "      <td>0</td>\n",
       "      <td>0</td>\n",
       "      <td>0</td>\n",
       "      <td>0</td>\n",
       "      <td>0</td>\n",
       "      <td>0</td>\n",
       "      <td>0</td>\n",
       "    </tr>\n",
       "    <tr>\n",
       "      <td>3</td>\n",
       "      <td>0.62</td>\n",
       "      <td>17.82</td>\n",
       "      <td>0</td>\n",
       "      <td>1</td>\n",
       "      <td>0</td>\n",
       "      <td>0</td>\n",
       "      <td>0</td>\n",
       "      <td>0</td>\n",
       "      <td>0</td>\n",
       "      <td>0</td>\n",
       "      <td>...</td>\n",
       "      <td>0</td>\n",
       "      <td>0</td>\n",
       "      <td>0</td>\n",
       "      <td>0</td>\n",
       "      <td>0</td>\n",
       "      <td>0</td>\n",
       "      <td>0</td>\n",
       "      <td>1</td>\n",
       "      <td>0</td>\n",
       "      <td>0</td>\n",
       "    </tr>\n",
       "    <tr>\n",
       "      <td>4</td>\n",
       "      <td>0.50</td>\n",
       "      <td>11.06</td>\n",
       "      <td>18</td>\n",
       "      <td>4</td>\n",
       "      <td>0</td>\n",
       "      <td>0</td>\n",
       "      <td>0</td>\n",
       "      <td>1</td>\n",
       "      <td>0</td>\n",
       "      <td>0</td>\n",
       "      <td>...</td>\n",
       "      <td>0</td>\n",
       "      <td>0</td>\n",
       "      <td>0</td>\n",
       "      <td>0</td>\n",
       "      <td>0</td>\n",
       "      <td>0</td>\n",
       "      <td>0</td>\n",
       "      <td>0</td>\n",
       "      <td>0</td>\n",
       "      <td>0</td>\n",
       "    </tr>\n",
       "  </tbody>\n",
       "</table>\n",
       "<p>5 rows × 61 columns</p>\n",
       "</div>"
      ],
      "text/plain": [
       "   length(m)  height(cm)  X1  X2  breed_category  Agouti  Apricot  Black  \\\n",
       "0       0.80        7.78  13   9               0       0        0      0   \n",
       "1       0.72       14.19  13   9               0       0        0      0   \n",
       "2       0.15       40.90  15   4               2       0        0      0   \n",
       "3       0.62       17.82   0   1               0       0        0      0   \n",
       "4       0.50       11.06  18   4               0       0        0      1   \n",
       "\n",
       "   Black Brindle  Black Smoke  ...  Silver Lynx Point  Silver Tabby  Tan  \\\n",
       "0              0            0  ...                  0             0    0   \n",
       "1              0            0  ...                  0             0    0   \n",
       "2              0            0  ...                  0             0    0   \n",
       "3              0            0  ...                  0             0    0   \n",
       "4              0            0  ...                  0             0    0   \n",
       "\n",
       "   Torbie  Tortie  Tortie Point  Tricolor  White  Yellow  Yellow Brindle  \n",
       "0       0       0             0         0      0       0               0  \n",
       "1       0       0             0         0      1       0               0  \n",
       "2       0       0             0         0      0       0               0  \n",
       "3       0       0             0         0      1       0               0  \n",
       "4       0       0             0         0      0       0               0  \n",
       "\n",
       "[5 rows x 61 columns]"
      ]
     },
     "execution_count": 94,
     "metadata": {},
     "output_type": "execute_result"
    }
   ],
   "source": [
    "X1 = pd.concat([train[['length(m)', 'height(cm)', 'X1', 'X2', 'breed_category']], pd.get_dummies(train['color_type'])],axis = 1)\n",
    "X1.head()"
   ]
  },
  {
   "cell_type": "code",
   "execution_count": 95,
   "metadata": {},
   "outputs": [],
   "source": [
    "y1 = train['pet_category'].values"
   ]
  },
  {
   "cell_type": "code",
   "execution_count": 141,
   "metadata": {},
   "outputs": [
    {
     "data": {
      "text/plain": [
       "array([[ 1.0300209 , -1.51072853,  1.16101336,  1.25727915, -0.95347717,\n",
       "        -0.01457487, -0.02628151, -0.57011548, -0.05930113, -0.04125466,\n",
       "        -0.05411842, -0.00728686, -0.21767111, -0.02304857, -0.0745157 ,\n",
       "        -0.03260427, -0.01785145, -0.14465019, -0.03341032, -0.02304857,\n",
       "        -0.32417146, -0.16446173, -0.04555239,  3.18813375, -0.01457487,\n",
       "        -0.08173908, -0.13619679, -0.02524979, -0.11808248, -0.02186522,\n",
       "        -0.09314554, -0.10121824, -0.09227164, -0.05261757, -0.04060386,\n",
       "        -0.12872611, -0.0588486 , -0.02061418, -0.03177786, -0.01262188,\n",
       "        -0.00728686, -0.07906328, -0.04555239, -0.20937936, -0.02061418,\n",
       "        -0.16950106, -0.02628151, -0.03496697, -0.09458472, -0.06448774,\n",
       "        -0.03571998, -0.01457487, -0.03092948, -0.27776221, -0.11408922,\n",
       "        -0.14077664, -0.03718051, -0.15980522, -0.38697113, -0.08746851,\n",
       "        -0.02823237],\n",
       "       [ 0.75291413, -1.01838767,  1.16101336,  1.25727915, -0.95347717,\n",
       "        -0.01457487, -0.02628151, -0.57011548, -0.05930113, -0.04125466,\n",
       "        -0.05411842, -0.00728686, -0.21767111, -0.02304857, -0.0745157 ,\n",
       "        -0.03260427, -0.01785145, -0.14465019, -0.03341032, -0.02304857,\n",
       "        -0.32417146, -0.16446173, -0.04555239, -0.31366313, -0.01457487,\n",
       "        -0.08173908, -0.13619679, -0.02524979, -0.11808248, -0.02186522,\n",
       "        -0.09314554, -0.10121824, -0.09227164, -0.05261757, -0.04060386,\n",
       "        -0.12872611, -0.0588486 , -0.02061418, -0.03177786, -0.01262188,\n",
       "        -0.00728686, -0.07906328, -0.04555239, -0.20937936, -0.02061418,\n",
       "        -0.16950106, -0.02628151, -0.03496697, -0.09458472, -0.06448774,\n",
       "        -0.03571998, -0.01457487, -0.03092948, -0.27776221, -0.11408922,\n",
       "        -0.14077664, -0.03718051, -0.15980522,  2.58417209, -0.08746851,\n",
       "        -0.02823237],\n",
       "       [-1.2214716 ,  1.03316059,  1.46532585, -0.16411631,  2.22180159,\n",
       "        -0.01457487, -0.02628151, -0.57011548, -0.05930113, -0.04125466,\n",
       "        -0.05411842, -0.00728686, -0.21767111, -0.02304857, -0.0745157 ,\n",
       "        -0.03260427, -0.01785145, -0.14465019, -0.03341032, -0.02304857,\n",
       "         3.08478733, -0.16446173, -0.04555239, -0.31366313, -0.01457487,\n",
       "        -0.08173908, -0.13619679, -0.02524979, -0.11808248, -0.02186522,\n",
       "        -0.09314554, -0.10121824, -0.09227164, -0.05261757, -0.04060386,\n",
       "        -0.12872611, -0.0588486 , -0.02061418, -0.03177786, -0.01262188,\n",
       "        -0.00728686, -0.07906328, -0.04555239, -0.20937936, -0.02061418,\n",
       "        -0.16950106, -0.02628151, -0.03496697, -0.09458472, -0.06448774,\n",
       "        -0.03571998, -0.01457487, -0.03092948, -0.27776221, -0.11408922,\n",
       "        -0.14077664, -0.03718051, -0.15980522, -0.38697113, -0.08746851,\n",
       "        -0.02823237],\n",
       "       [ 0.40653067, -0.73957373, -0.81701778, -1.01695359, -0.95347717,\n",
       "        -0.01457487, -0.02628151, -0.57011548, -0.05930113, -0.04125466,\n",
       "        -0.05411842, -0.00728686, -0.21767111, -0.02304857, -0.0745157 ,\n",
       "        -0.03260427, -0.01785145, -0.14465019, -0.03341032, -0.02304857,\n",
       "        -0.32417146, -0.16446173, -0.04555239, -0.31366313, -0.01457487,\n",
       "        -0.08173908, -0.13619679, -0.02524979, -0.11808248, -0.02186522,\n",
       "        -0.09314554, -0.10121824, -0.09227164, -0.05261757, -0.04060386,\n",
       "        -0.12872611, -0.0588486 , -0.02061418, -0.03177786, -0.01262188,\n",
       "        -0.00728686, -0.07906328, -0.04555239, -0.20937936, -0.02061418,\n",
       "        -0.16950106, -0.02628151, -0.03496697, -0.09458472, -0.06448774,\n",
       "        -0.03571998, -0.01457487, -0.03092948, -0.27776221, -0.11408922,\n",
       "        -0.14077664, -0.03718051, -0.15980522,  2.58417209, -0.08746851,\n",
       "        -0.02823237],\n",
       "       [-0.00912949, -1.25879748,  1.92179457, -0.16411631, -0.95347717,\n",
       "        -0.01457487, -0.02628151,  1.75403061, -0.05930113, -0.04125466,\n",
       "        -0.05411842, -0.00728686, -0.21767111, -0.02304857, -0.0745157 ,\n",
       "        -0.03260427, -0.01785145, -0.14465019, -0.03341032, -0.02304857,\n",
       "        -0.32417146, -0.16446173, -0.04555239, -0.31366313, -0.01457487,\n",
       "        -0.08173908, -0.13619679, -0.02524979, -0.11808248, -0.02186522,\n",
       "        -0.09314554, -0.10121824, -0.09227164, -0.05261757, -0.04060386,\n",
       "        -0.12872611, -0.0588486 , -0.02061418, -0.03177786, -0.01262188,\n",
       "        -0.00728686, -0.07906328, -0.04555239, -0.20937936, -0.02061418,\n",
       "        -0.16950106, -0.02628151, -0.03496697, -0.09458472, -0.06448774,\n",
       "        -0.03571998, -0.01457487, -0.03092948, -0.27776221, -0.11408922,\n",
       "        -0.14077664, -0.03718051, -0.15980522, -0.38697113, -0.08746851,\n",
       "        -0.02823237]])"
      ]
     },
     "execution_count": 141,
     "metadata": {},
     "output_type": "execute_result"
    }
   ],
   "source": [
    "X1 = preprocessing.StandardScaler().fit(X1).transform(X1)\n",
    "X1[0:5]"
   ]
  },
  {
   "cell_type": "code",
   "execution_count": 142,
   "metadata": {},
   "outputs": [],
   "source": [
    "X1_train, X1_test, y1_train, y1_test = train_test_split(X1, y1, test_size = 0.3, random_state = 100)"
   ]
  },
  {
   "cell_type": "code",
   "execution_count": 143,
   "metadata": {},
   "outputs": [
    {
     "name": "stderr",
     "output_type": "stream",
     "text": [
      "C:\\Users\\dell\\Anaconda3\\lib\\site-packages\\sklearn\\svm\\base.py:193: FutureWarning: The default value of gamma will change from 'auto' to 'scale' in version 0.22 to account better for unscaled features. Set gamma explicitly to 'auto' or 'scale' to avoid this warning.\n",
      "  \"avoid this warning.\", FutureWarning)\n"
     ]
    },
    {
     "data": {
      "text/plain": [
       "array([4, 2, 2, 2, 1], dtype=int64)"
      ]
     },
     "execution_count": 143,
     "metadata": {},
     "output_type": "execute_result"
    }
   ],
   "source": [
    "from sklearn import svm\n",
    "clf = svm.SVC(kernel='rbf')\n",
    "clf.fit(X1_train, y1_train)\n",
    "yhat_svm = clf.predict(X1_test)\n",
    "yhat_svm[0:5]"
   ]
  },
  {
   "cell_type": "code",
   "execution_count": 144,
   "metadata": {},
   "outputs": [
    {
     "name": "stdout",
     "output_type": "stream",
     "text": [
      "SVM Accuracy: 0.8561316581136083\n"
     ]
    }
   ],
   "source": [
    "print(\"SVM Accuracy:\",accuracy_score(y1_test, yhat_svm))"
   ]
  },
  {
   "cell_type": "code",
   "execution_count": 145,
   "metadata": {
    "scrolled": true
   },
   "outputs": [
    {
     "name": "stderr",
     "output_type": "stream",
     "text": [
      "C:\\Users\\dell\\Anaconda3\\lib\\site-packages\\sklearn\\linear_model\\logistic.py:469: FutureWarning: Default multi_class will be changed to 'auto' in 0.22. Specify the multi_class option to silence this warning.\n",
      "  \"this warning.\", FutureWarning)\n"
     ]
    },
    {
     "data": {
      "text/plain": [
       "array([1, 2, 2, 2, 1], dtype=int64)"
      ]
     },
     "execution_count": 145,
     "metadata": {},
     "output_type": "execute_result"
    }
   ],
   "source": [
    "LR = LogisticRegression(C=0.01, solver = 'liblinear')\n",
    "LR.fit(X1_train,y1_train)\n",
    "yhat_pet = LR.predict(X1_test)\n",
    "yhat_pet[0:5]"
   ]
  },
  {
   "cell_type": "code",
   "execution_count": 146,
   "metadata": {},
   "outputs": [
    {
     "data": {
      "text/plain": [
       "0.8563086179437268"
      ]
     },
     "execution_count": 146,
     "metadata": {},
     "output_type": "execute_result"
    }
   ],
   "source": [
    "accu = accuracy_score(y1_test, yhat_pet)\n",
    "accu"
   ]
  },
  {
   "cell_type": "code",
   "execution_count": 147,
   "metadata": {},
   "outputs": [
    {
     "data": {
      "text/plain": [
       "array([4, 2, 2, 2, 1], dtype=int64)"
      ]
     },
     "execution_count": 147,
     "metadata": {},
     "output_type": "execute_result"
    }
   ],
   "source": [
    "dtree = DecisionTreeClassifier(criterion=\"entropy\", max_depth=20)\n",
    "dtree.fit(X1_train,y1_train)\n",
    "yhat_tree = dtree.predict(X1_test)\n",
    "yhat_tree[0:5]"
   ]
  },
  {
   "cell_type": "code",
   "execution_count": 148,
   "metadata": {},
   "outputs": [
    {
     "name": "stdout",
     "output_type": "stream",
     "text": [
      "Decision Tree Accuracy: 0.8437444700053088\n"
     ]
    }
   ],
   "source": [
    "print(\"Decision Tree Accuracy:\", accuracy_score(y1_test, yhat_tree))"
   ]
  },
  {
   "cell_type": "code",
   "execution_count": 149,
   "metadata": {},
   "outputs": [
    {
     "data": {
      "text/plain": [
       "array([0.83365776, 0.81755442, 0.85170766, 0.84179791, 0.85807822,\n",
       "       0.85117678, 0.85754734, 0.8533003 , 0.86002477])"
      ]
     },
     "execution_count": 149,
     "metadata": {},
     "output_type": "execute_result"
    }
   ],
   "source": [
    "k = 10\n",
    "mean_acc = np.zeros((k-1))\n",
    "std_acc = np.zeros((k-1))\n",
    "confMx = []\n",
    "for n in range(1,k):\n",
    "    \n",
    "    neigh = KNeighborsClassifier(n_neighbors=n).fit(X1_train, y1_train)\n",
    "    yhat = neigh.predict(X1_test)\n",
    "    mean_acc[n-1] = accuracy_score(yhat, y1_test)\n",
    "    \n",
    "    \n",
    "    std_acc[n-1] = np.std(yhat==y1_test)/np.sqrt(yhat.shape[0])\n",
    "    \n",
    "mean_acc"
   ]
  },
  {
   "cell_type": "code",
   "execution_count": 150,
   "metadata": {},
   "outputs": [
    {
     "data": {
      "image/png": "[encoded data removed]",
      "text/plain": [
       "<Figure size 432x288 with 1 Axes>"
      ]
     },
     "metadata": {},
     "output_type": "display_data"
    }
   ],
   "source": [
    "plt.plot(range(1,k), mean_acc,'g')\n",
    "plt.fill_between(range(1,k), mean_acc - 1*std_acc, mean_acc - 1*std_acc, alpha = 0.20)\n",
    "plt.legend(('Accuracy','+/-3xstd'))\n",
    "plt.ylabel('Accuracy')\n",
    "plt.xlabel('Number of neighbors (k)')\n",
    "plt.tight_layout\n",
    "plt.show()"
   ]
  },
  {
   "cell_type": "code",
   "execution_count": 151,
   "metadata": {},
   "outputs": [
    {
     "name": "stdout",
     "output_type": "stream",
     "text": [
      "The best accuracy was  0.8600247743762166 with k =  9\n"
     ]
    }
   ],
   "source": [
    "print(\"The best accuracy was \", mean_acc.max(), \"with k = \", mean_acc.argmax()+1)"
   ]
  },
  {
   "cell_type": "code",
   "execution_count": null,
   "metadata": {},
   "outputs": [],
   "source": []
  }
 ],
 "metadata": {
  "kernelspec": {
   "display_name": "Python 3",
   "language": "python",
   "name": "python3"
  },
  "language_info": {
   "codemirror_mode": {
    "name": "ipython",
    "version": 3
   },
   "file_extension": ".py",
   "mimetype": "text/x-python",
   "name": "python",
   "nbconvert_exporter": "python",
   "pygments_lexer": "ipython3",
   "version": "3.7.4"
  }
 },
 "nbformat": 4,
 "nbformat_minor": 2
}
